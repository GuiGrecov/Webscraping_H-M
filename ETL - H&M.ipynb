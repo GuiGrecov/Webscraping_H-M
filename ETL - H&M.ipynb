{
 "cells": [
  {
   "cell_type": "markdown",
   "id": "2c416807",
   "metadata": {},
   "source": [
    "## 0.0 Import Data"
   ]
  },
  {
   "cell_type": "code",
   "execution_count": 15,
   "id": "20621492",
   "metadata": {},
   "outputs": [],
   "source": [
    "import requests\n",
    "import pandas as pd\n",
    "import numpy as np\n",
    "import math\n",
    "import pandas as pd \n",
    "import re \n",
    "import numpy as np\n",
    "\n",
    "\n",
    "from IPython.display import Image\n",
    "from datetime import datetime\n",
    "from bs4 import BeautifulSoup"
   ]
  },
  {
   "cell_type": "markdown",
   "id": "f1689473",
   "metadata": {},
   "source": [
    "## 1.0 Functions "
   ]
  },
  {
   "cell_type": "code",
   "execution_count": 16,
   "id": "9f4c4495",
   "metadata": {},
   "outputs": [],
   "source": [
    "def get_showroom_data( url, headers ):\n",
    "    page = requests.get( url, headers=headers )\n",
    "    soup = BeautifulSoup( page.text, 'html.parser' )\n",
    "\n",
    "    # 1.0. Scrape data - Showroom products\n",
    "    products = soup.find( 'ul', class_='products-listing small' )\n",
    "    product_list = products.find_all( 'article', class_='hm-product-item')\n",
    "\n",
    "    # product id\n",
    "    product_id = [p.get( 'data-articlecode' ) for p in product_list]\n",
    "\n",
    "    # product category\n",
    "    product_category = [p.get( 'data-category' ) for p in product_list]\n",
    "\n",
    "    # product name\n",
    "    product_list = products.find_all( 'a', class_='link' )\n",
    "    product_name = [p.get_text() for p in product_list]\n",
    "\n",
    "    # price\n",
    "    product_list = products.find_all( 'span', class_='price regular' )\n",
    "    product_price = [p.get_text() for p in product_list]\n",
    "\n",
    "    data_scraped = pd.DataFrame( [product_id, product_category, product_name, product_price] ).T\n",
    "    data_scraped.columns = ['product_id', 'product_category', 'product_name', 'product_price']\n",
    "\n",
    "    # scrapy datetime\n",
    "    data_scraped['scrapy_datetime'] = datetime.now().strftime( '%Y-%m-%d %H:%M:%S' )\n",
    "\n",
    "    # style_id\n",
    "    data_scraped['style_id'] = data_scraped['product_id'].apply( lambda x: x[:-3] )\n",
    "    \n",
    "    return data_scraped\n",
    "\n",
    "\n",
    "def get_product_details( data_scraped ):\n",
    "    # 2.0. Scrape data - Products Details\n",
    "    cols = ['Art. No.', 'Composition', 'Fit', 'Product safety', 'Size','More sustainable materials']\n",
    "    df_pattern = pd.DataFrame( columns=cols )\n",
    "\n",
    "    # unique columns for all products\n",
    "    aux = []\n",
    "\n",
    "    # Iterate over products \n",
    "    df_raw = pd.DataFrame()\n",
    "\n",
    "    for i in range( len( data_scraped ) ):\n",
    "        url = 'https://www2.hm.com/en_us/productpage.' + data_scraped.loc[i, 'product_id'] + '.html'\n",
    "        page = requests.get( url, headers=headers )\n",
    "\n",
    "        # Beautiful Soup object\n",
    "        soup = BeautifulSoup( page.text, 'html.parser' )\n",
    "\n",
    "        # ==================== color name =================================\n",
    "        product_list = soup.find_all( 'a', class_='filter-option miniature' ) + soup.find_all( 'a', class_='filter-option miniature active' )\n",
    "        color_name = [p.get( 'data-color' ) for p in product_list]\n",
    "\n",
    "        # product id\n",
    "        product_id = [p.get( 'data-articlecode' ) for p in product_list]\n",
    "\n",
    "        df_color = pd.DataFrame( [product_id, color_name] ).T\n",
    "        df_color.columns = ['product_id', 'color_name']\n",
    "\n",
    "\n",
    "        # ==================== Iterate over colors =================================\n",
    "        df_details_composition = pd.DataFrame()\n",
    "        for j in range( len( df_color ) ):\n",
    "            url = 'https://www2.hm.com/en_us/productpage.' + str( df_color.loc[j, 'product_id'] ) + '.html'\n",
    "            page = requests.get( url, headers=headers )\n",
    "\n",
    "            # Beautiful Soup object\n",
    "            soup = BeautifulSoup( page.text, 'html.parser' )\n",
    "\n",
    "            # ==================== composition =================================\n",
    "            product_composition_list = soup.find_all( 'div', class_='pdp-description-list-item' )\n",
    "            product_composition = [list( filter( None, p.get_text().split( '\\n' ) ) )  for p in product_composition_list]\n",
    "\n",
    "            # reaname dataframe\n",
    "            df_composition = pd.DataFrame( product_composition ).T\n",
    "            df_composition.columns = df_composition.iloc[0]\n",
    "\n",
    "            # delete first row\n",
    "            df_composition = df_composition.iloc[1:].fillna( method='ffill' )\n",
    "\n",
    "            # garantee the same number of columns\n",
    "            df_composition = pd.concat( [df_pattern, df_composition], axis=0 )\n",
    "\n",
    "            # generate style id + color id\n",
    "            df_composition['product_id'] = df_composition['Art. No.']\n",
    "            df_composition['color_id'] = df_composition['Art. No.'].apply( lambda x: x[-3:] )\n",
    "\n",
    "            # ==================== price + product_id =================================\n",
    "            df_composition['product_price'] = soup.find_all( 'span', class_='price-value' )[0].get_text()\n",
    "            df_composition['product_name'] = soup.find_all( 'h1', class_='primary product-item-headline' )[0].get_text()\n",
    "\n",
    "            aux = aux + df_composition.columns.tolist()\n",
    "\n",
    "            # all products composition\n",
    "            df_details_composition = pd.concat( [df_details_composition, df_composition], axis=0 )\n",
    "\n",
    "        df_details = pd.merge( df_color, df_details_composition.drop_duplicates(), how='left', on='product_id' )\n",
    "        df_details['style_id'] = df_details['product_id'].apply( lambda x: x[:-3] )\n",
    "\n",
    "\n",
    "        # join with showroom\n",
    "        data_aux = pd.merge( df_details, pd.DataFrame( data_scraped.loc[i, ['style_id', 'product_category', 'scrapy_datetime']] ).T,\n",
    "                             how='left', on='style_id' )\n",
    "\n",
    "        # final dataset\n",
    "        df_raw = pd.concat( [df_raw, data_aux], axis=0 )\n",
    "        \n",
    "        \n",
    "    return df_raw\n",
    "\n",
    "\n",
    "def datacleaning(data):\n",
    "    #product id \n",
    "    data = data.dropna( subset = [\"product_id\"])\n",
    "    # data transformertion -> data[\"product_id\"] = data[\"product_id\"].astype(int)\n",
    "\n",
    "    #product name\n",
    "    data['product_name'] = data['product_name'].apply( lambda x: x.replace( ' ', '_' ).lower() )\n",
    "    data['product_name'] = data['product_name'].apply( lambda x: x.replace( '\\t', '' ).lower() )\n",
    "    data['product_name'] = data['product_name'].apply( lambda x: x.replace( '\\n__', '' ).lower() )\n",
    "\n",
    "\n",
    "    #product price \n",
    "    data[\"product_price\"] = data[\"product_price\"].apply( lambda x: x.replace (\"$\", \"\")).astype( float )\n",
    "\n",
    "\n",
    "    #color name \n",
    "    data[\"color_name\"] = data[\"color_name\"].apply(lambda x: x.replace(\" \", \"_\").lower() if pd.notnull( x ) else x )\n",
    "\n",
    "\n",
    "    # fit\n",
    "    data[\"Fit\"] = data[\"Fit\"].apply(lambda x: x.replace(\" \", \"_\").lower() if pd.notnull( x ) else x  )\n",
    "\n",
    "    # size model\n",
    "    data[\"size_model\"] = data[\"Size\"].str.extract(  \"(\\d+/\\\\d+)\" )\n",
    "\n",
    "    # size number\n",
    "    data[\"size_number\"] = data[\"Size\"].apply( lambda x: re.search(\"\\d{3}cm\", x).group(0) if pd.notnull( x ) else x )\n",
    "    data[\"size_number\"] = data[\"size_number\"].apply(lambda x: re.search(\"\\d+\",x).group(0) if pd.notnull(x) else x)\n",
    "\n",
    "\n",
    "    #dropna Size \n",
    "    data = data.drop ( columns=[\"Size\"],axis=1)\n",
    "\n",
    "    # product safety \n",
    "    data = data.drop ( columns=[\"Product safety\"],axis=1)\n",
    "\n",
    "    #composition\n",
    "    data  = data[~data[\"Composition\"].str.contains(\"Pocket lining: \", na=False)]\n",
    "    data  = data[~data[\"Composition\"].str.contains(\"Lining: \", na=False)]\n",
    "    data  = data[~data[\"Composition\"].str.contains(\"Shell: \", na=False)]\n",
    "\n",
    "    #reset index \n",
    "    data = data.reset_index(drop=True)\n",
    "\n",
    "    #break composition by comma\n",
    "    df1 = data[\"Composition\"].str.split(\",\", expand=True)\n",
    "\n",
    "    #cotton | polyester | elastano | elasterell \n",
    "    df_ref = pd.DataFrame(index=np.arange(len(data)), columns = [\"cotton\", \"polyester\", \"spandex\",\"elasterell\"])\n",
    "\n",
    "\n",
    "    #cotton \n",
    "    df_cotton= df1[0]\n",
    "    df_cotton.name = \"cotton\"\n",
    "    df_ref = pd.concat( [df_ref, df_cotton], axis=1)\n",
    "    df_ref = df_ref.iloc[:, ~df_ref.columns.duplicated(keep=\"last\" )]\n",
    "\n",
    "    #polyester \n",
    "    df_poly = df1.loc[df1[1].str.contains (\"Polyester\", na=True), 1] \n",
    "    df_poly.name= \"polyester\"\n",
    "    df_ref = pd.concat( [ df_ref, df_poly], axis=1)\n",
    "    df_ref = df_ref.iloc[:, ~df_ref.columns.duplicated(keep=\"last\" )]\n",
    "\n",
    "\n",
    "    #elastano \n",
    "    df_elastane = df1.loc[df1[1].str.contains (\"Spandex\", na=True), 1]\n",
    "    df_elastane.name= \"spandex\"\n",
    "    #combine elastane from both columns \n",
    "    df_elastane = df_elastane.combine_first(df1[2])\n",
    "\n",
    "    #combine elastane from both columns \n",
    "    #df_elastane = df_elastane.combine_first(df1[2])\n",
    "    \n",
    "\n",
    "    df_ref = pd.concat( [ df_ref, df_elastane], axis=1)\n",
    "    df_ref = df_ref.iloc[:, ~df_ref.columns.duplicated(keep=\"last\" )]\n",
    "\n",
    "\n",
    "    #elasterell \n",
    "    df_el = df1.loc[df1[1].str.contains (\"Elasterell\", na=True), 1]\n",
    "    df_el.name= \"elasterell\"\n",
    "    df_ref = pd.concat( [ df_ref, df_el], axis=1)\n",
    "    df_ref = df_ref.iloc[:, ~df_ref.columns.duplicated(keep=\"last\" )]\n",
    "\n",
    "    #data\n",
    "    data = pd.concat([data, df_ref], axis = 1)\n",
    "    data = data.iloc[:, ~data.columns.duplicated(keep=\"last\" )]\n",
    "    data.head()\n",
    "\n",
    "    # format composition data \n",
    "    data[\"cotton\"] = data[\"cotton\"].apply( lambda x: int( re.search(\"\\d+\", x).group(0)) /100 if pd.notnull( x ) else x)\n",
    "    data[\"polyester\"] = data[\"polyester\"].apply( lambda x: int( re.search(\"\\d+\", x).group(0)) /100 if pd.notnull( x ) else x)\n",
    "    data[\"spandex\"] = data[\"spandex\"].apply( lambda x: int( re.search(\"\\d+\", x).group(0)) /100 if pd.notnull( x ) else x)\n",
    "    data[\"elasterell\"] = data[\"elasterell\"].apply( lambda x: int( re.search(\"\\d+\", x).group(0)) /100 if pd.notnull( x ) else x)\n",
    "\n",
    "    # product safety \n",
    "    data = data.drop ( columns=[\"Composition\"],axis=1)\n",
    "    \n",
    "    return data \n",
    "\n",
    "def export(data,name):\n",
    "    #export archive to csv \n",
    "    \n",
    "    #code = archive today \n",
    "    code = str(datetime.today().strftime('%Y-%m-%d'))\n",
    "    \n",
    "    #var responsible to generate the archive of today\n",
    "    name = name + code + \".csv\"\n",
    "\n",
    "    #ajuste data\n",
    "    data = data.drop_duplicates( subset = ['product_id', 'product_category', 'product_name', 'product_price',\n",
    "           'scrapy_datetime', 'style_id', 'color_id', 'color_name', 'Fit'], keep=\"last\")\n",
    "\n",
    "    data.shape\n",
    "    #=====export data========\n",
    "    data.to_csv(name, encoding=\"utf-8\", index=False)"
   ]
  },
  {
   "cell_type": "markdown",
   "id": "0c0a6185",
   "metadata": {},
   "source": [
    "## 2.0 Function Main"
   ]
  },
  {
   "cell_type": "code",
   "execution_count": 17,
   "id": "fc2cfbba",
   "metadata": {},
   "outputs": [],
   "source": [
    "if __name__ == \"__main__\":\n",
    "    \n",
    "    # parameters\n",
    "    url = 'https://www2.hm.com/en_us/men/products/jeans.html'\n",
    "    headers = {'User-Agent': 'Mozilla/5.0 (Windows NT 10.0; Win64; x64) , AppleWebKit/537.36 (KHTML, like Gecko) Chrome/96.0.4664.110 Safari/537.36'}\n",
    "    \n",
    "    # Extraction\n",
    "    data_scraped = get_showroom_data( url, headers )\n",
    "    \n",
    "    # Transformation\n",
    "    df_raw = get_product_details( data_scraped )\n",
    "    \n",
    "    #Carga\n",
    "    data = datacleaning( df_raw )\n",
    "    \n",
    "    #export to csv in local notebook \n",
    "    export(data,\"datas\\products-clean\")\n",
    "\n",
    "  "
   ]
  },
  {
   "cell_type": "code",
   "execution_count": 18,
   "id": "aa494fe4",
   "metadata": {
    "scrolled": true
   },
   "outputs": [
    {
     "data": {
      "text/plain": [
       "'2022-01-03'"
      ]
     },
     "execution_count": 18,
     "metadata": {},
     "output_type": "execute_result"
    }
   ],
   "source": [
    "df  = datetime.today().strftime('%Y-%m-%d')\n",
    "df"
   ]
  },
  {
   "cell_type": "markdown",
   "id": "6c80ad76",
   "metadata": {},
   "source": [
    "# 3.0 Data Exploratory"
   ]
  },
  {
   "cell_type": "code",
   "execution_count": 34,
   "id": "66d35cf7",
   "metadata": {
    "scrolled": true
   },
   "outputs": [],
   "source": [
    "#copy to the new variable,\n",
    "df1 = pd.read_csv(\"datas/products-clean2021-12-25.csv\")"
   ]
  },
  {
   "cell_type": "code",
   "execution_count": 20,
   "id": "4d31bf8f",
   "metadata": {
    "scrolled": true
   },
   "outputs": [
    {
     "data": {
      "text/plain": [
       "(95, 17)"
      ]
     },
     "execution_count": 20,
     "metadata": {},
     "output_type": "execute_result"
    }
   ],
   "source": [
    "df1.shape"
   ]
  },
  {
   "cell_type": "code",
   "execution_count": 21,
   "id": "28c8ce5e",
   "metadata": {},
   "outputs": [
    {
     "name": "stdout",
     "output_type": "stream",
     "text": [
      "Number of Rows: 95\n",
      "Number of Cols: 17\n"
     ]
    }
   ],
   "source": [
    "print(f\"Number of Rows: { df1.shape[0] }\")\n",
    "print(f\"Number of Cols: { df1.shape[1] }\")"
   ]
  },
  {
   "cell_type": "markdown",
   "id": "882e9fa8",
   "metadata": {},
   "source": [
    "### 3.1 Data Transformation"
   ]
  },
  {
   "cell_type": "code",
   "execution_count": 22,
   "id": "4971d749",
   "metadata": {},
   "outputs": [
    {
     "data": {
      "text/plain": [
       "product_id                      int64\n",
       "color_name                     object\n",
       "Art. No.                        int64\n",
       "Fit                            object\n",
       "More sustainable materials     object\n",
       "color_id                        int64\n",
       "product_price                 float64\n",
       "product_name                   object\n",
       "style_id                        int64\n",
       "product_category               object\n",
       "scrapy_datetime                object\n",
       "size_model                     object\n",
       "size_number                   float64\n",
       "cotton                        float64\n",
       "polyester                     float64\n",
       "spandex                       float64\n",
       "elasterell                    float64\n",
       "dtype: object"
      ]
     },
     "execution_count": 22,
     "metadata": {},
     "output_type": "execute_result"
    }
   ],
   "source": [
    "df1.dtypes"
   ]
  },
  {
   "cell_type": "code",
   "execution_count": 23,
   "id": "46d499af",
   "metadata": {},
   "outputs": [],
   "source": [
    "#convert object to datetime\n",
    "df1[\"scrapy_datetime\"] = pd.to_datetime( df1[\"scrapy_datetime\"])"
   ]
  },
  {
   "cell_type": "code",
   "execution_count": 24,
   "id": "656fc480",
   "metadata": {},
   "outputs": [
    {
     "data": {
      "text/plain": [
       "product_id                             int64\n",
       "color_name                            object\n",
       "Art. No.                               int64\n",
       "Fit                                   object\n",
       "More sustainable materials            object\n",
       "color_id                               int64\n",
       "product_price                        float64\n",
       "product_name                          object\n",
       "style_id                               int64\n",
       "product_category                      object\n",
       "scrapy_datetime               datetime64[ns]\n",
       "size_model                            object\n",
       "size_number                          float64\n",
       "cotton                               float64\n",
       "polyester                            float64\n",
       "spandex                              float64\n",
       "elasterell                           float64\n",
       "dtype: object"
      ]
     },
     "execution_count": 24,
     "metadata": {},
     "output_type": "execute_result"
    }
   ],
   "source": [
    "df1.dtypes"
   ]
  },
  {
   "cell_type": "markdown",
   "id": "984fd7ff",
   "metadata": {},
   "source": [
    "### 3.2 Check Dados Faltantes"
   ]
  },
  {
   "cell_type": "code",
   "execution_count": 25,
   "id": "bc4e74c0",
   "metadata": {},
   "outputs": [
    {
     "data": {
      "text/plain": [
       "product_id                     0\n",
       "color_name                     0\n",
       "Art. No.                       0\n",
       "Fit                            0\n",
       "More sustainable materials    73\n",
       "color_id                       0\n",
       "product_price                  0\n",
       "product_name                   0\n",
       "style_id                       0\n",
       "product_category               0\n",
       "scrapy_datetime                0\n",
       "size_model                    76\n",
       "size_number                   71\n",
       "cotton                         0\n",
       "polyester                     69\n",
       "spandex                        5\n",
       "elasterell                    90\n",
       "dtype: int64"
      ]
     },
     "execution_count": 25,
     "metadata": {},
     "output_type": "execute_result"
    }
   ],
   "source": [
    "#check NA columns\n",
    "df1.isna().sum()"
   ]
  },
  {
   "cell_type": "code",
   "execution_count": 26,
   "id": "61c10e22",
   "metadata": {},
   "outputs": [
    {
     "data": {
      "text/plain": [
       "product_id                    0.000000\n",
       "color_name                    0.000000\n",
       "Art. No.                      0.000000\n",
       "Fit                           0.000000\n",
       "More sustainable materials    0.768421\n",
       "color_id                      0.000000\n",
       "product_price                 0.000000\n",
       "product_name                  0.000000\n",
       "style_id                      0.000000\n",
       "product_category              0.000000\n",
       "scrapy_datetime               0.000000\n",
       "size_model                    0.800000\n",
       "size_number                   0.747368\n",
       "cotton                        0.000000\n",
       "polyester                     0.726316\n",
       "spandex                       0.052632\n",
       "elasterell                    0.947368\n",
       "dtype: float64"
      ]
     },
     "execution_count": 26,
     "metadata": {},
     "output_type": "execute_result"
    }
   ],
   "source": [
    "#check NA columns\n",
    "df1.isna().sum() / df1.shape[0]"
   ]
  },
  {
   "cell_type": "code",
   "execution_count": 27,
   "id": "402264b9",
   "metadata": {},
   "outputs": [
    {
     "data": {
      "text/plain": [
       "(95, 17)"
      ]
     },
     "execution_count": 27,
     "metadata": {},
     "output_type": "execute_result"
    }
   ],
   "source": [
    "df1.shape"
   ]
  },
  {
   "cell_type": "markdown",
   "id": "0c437ddf",
   "metadata": {},
   "source": [
    "### 3.3 Substituição de Dados Faltantes"
   ]
  },
  {
   "cell_type": "code",
   "execution_count": 28,
   "id": "db38e6b9",
   "metadata": {},
   "outputs": [],
   "source": [
    "df2 = df1.drop(columns= [\"size_number\", \"size_model\"])"
   ]
  },
  {
   "cell_type": "markdown",
   "id": "286e5350",
   "metadata": {},
   "source": [
    "### 3.5 Descrição dos dados "
   ]
  },
  {
   "cell_type": "code",
   "execution_count": 29,
   "id": "5ab4a4c6",
   "metadata": {},
   "outputs": [],
   "source": [
    "num_attributes = df2.select_dtypes(include=[\"int64\", \"float64\"])\n",
    "cat_attributes = df2.select_dtypes(exclude=[\"int64\", \"float64\", \"datetime64[ns]\"])"
   ]
  },
  {
   "cell_type": "markdown",
   "id": "be6ebe2c",
   "metadata": {},
   "source": [
    "#### 3.5.1 Numeric Data "
   ]
  },
  {
   "cell_type": "code",
   "execution_count": 30,
   "id": "f64ec2af",
   "metadata": {},
   "outputs": [
    {
     "data": {
      "text/html": [
       "<div>\n",
       "<style scoped>\n",
       "    .dataframe tbody tr th:only-of-type {\n",
       "        vertical-align: middle;\n",
       "    }\n",
       "\n",
       "    .dataframe tbody tr th {\n",
       "        vertical-align: top;\n",
       "    }\n",
       "\n",
       "    .dataframe thead th {\n",
       "        text-align: right;\n",
       "    }\n",
       "</style>\n",
       "<table border=\"1\" class=\"dataframe\">\n",
       "  <thead>\n",
       "    <tr style=\"text-align: right;\">\n",
       "      <th></th>\n",
       "      <th>attributes</th>\n",
       "      <th>min</th>\n",
       "      <th>max</th>\n",
       "      <th>range</th>\n",
       "      <th>media</th>\n",
       "      <th>mediana</th>\n",
       "      <th>std</th>\n",
       "      <th>skew</th>\n",
       "      <th>kurtosis</th>\n",
       "    </tr>\n",
       "  </thead>\n",
       "  <tbody>\n",
       "    <tr>\n",
       "      <th>0</th>\n",
       "      <td>product_id</td>\n",
       "      <td>4.271590e+08</td>\n",
       "      <td>1.013317e+09</td>\n",
       "      <td>5.861580e+08</td>\n",
       "      <td>7.404700e+08</td>\n",
       "      <td>7.519940e+08</td>\n",
       "      <td>1.809852e+08</td>\n",
       "      <td>-0.209794</td>\n",
       "      <td>-0.646577</td>\n",
       "    </tr>\n",
       "    <tr>\n",
       "      <th>1</th>\n",
       "      <td>Art. No.</td>\n",
       "      <td>4.271590e+08</td>\n",
       "      <td>1.013317e+09</td>\n",
       "      <td>5.861580e+08</td>\n",
       "      <td>7.404700e+08</td>\n",
       "      <td>7.519940e+08</td>\n",
       "      <td>1.809852e+08</td>\n",
       "      <td>-0.209794</td>\n",
       "      <td>-0.646577</td>\n",
       "    </tr>\n",
       "    <tr>\n",
       "      <th>2</th>\n",
       "      <td>color_id</td>\n",
       "      <td>1.000000e+00</td>\n",
       "      <td>5.600000e+01</td>\n",
       "      <td>5.500000e+01</td>\n",
       "      <td>1.347368e+01</td>\n",
       "      <td>8.000000e+00</td>\n",
       "      <td>1.316042e+01</td>\n",
       "      <td>1.236637</td>\n",
       "      <td>0.749734</td>\n",
       "    </tr>\n",
       "    <tr>\n",
       "      <th>3</th>\n",
       "      <td>product_price</td>\n",
       "      <td>5.990000e+00</td>\n",
       "      <td>4.999000e+01</td>\n",
       "      <td>4.400000e+01</td>\n",
       "      <td>2.647421e+01</td>\n",
       "      <td>2.299000e+01</td>\n",
       "      <td>1.086459e+01</td>\n",
       "      <td>0.312208</td>\n",
       "      <td>-1.030168</td>\n",
       "    </tr>\n",
       "    <tr>\n",
       "      <th>4</th>\n",
       "      <td>style_id</td>\n",
       "      <td>4.271590e+05</td>\n",
       "      <td>1.013317e+06</td>\n",
       "      <td>5.861580e+05</td>\n",
       "      <td>7.404700e+05</td>\n",
       "      <td>7.519940e+05</td>\n",
       "      <td>1.809852e+05</td>\n",
       "      <td>-0.209794</td>\n",
       "      <td>-0.646577</td>\n",
       "    </tr>\n",
       "    <tr>\n",
       "      <th>5</th>\n",
       "      <td>cotton</td>\n",
       "      <td>6.600000e-01</td>\n",
       "      <td>1.000000e+00</td>\n",
       "      <td>3.400000e-01</td>\n",
       "      <td>9.454737e-01</td>\n",
       "      <td>9.800000e-01</td>\n",
       "      <td>7.097469e-02</td>\n",
       "      <td>-2.015522</td>\n",
       "      <td>3.706911</td>\n",
       "    </tr>\n",
       "    <tr>\n",
       "      <th>6</th>\n",
       "      <td>polyester</td>\n",
       "      <td>6.000000e-02</td>\n",
       "      <td>2.800000e-01</td>\n",
       "      <td>2.200000e-01</td>\n",
       "      <td>1.257692e-01</td>\n",
       "      <td>NaN</td>\n",
       "      <td>6.956862e-02</td>\n",
       "      <td>0.714751</td>\n",
       "      <td>-1.012771</td>\n",
       "    </tr>\n",
       "    <tr>\n",
       "      <th>7</th>\n",
       "      <td>spandex</td>\n",
       "      <td>1.000000e-02</td>\n",
       "      <td>7.000000e-02</td>\n",
       "      <td>6.000000e-02</td>\n",
       "      <td>1.655556e-02</td>\n",
       "      <td>NaN</td>\n",
       "      <td>8.321473e-03</td>\n",
       "      <td>3.551035</td>\n",
       "      <td>20.154854</td>\n",
       "    </tr>\n",
       "    <tr>\n",
       "      <th>8</th>\n",
       "      <td>elasterell</td>\n",
       "      <td>8.000000e-02</td>\n",
       "      <td>8.000000e-02</td>\n",
       "      <td>0.000000e+00</td>\n",
       "      <td>8.000000e-02</td>\n",
       "      <td>NaN</td>\n",
       "      <td>0.000000e+00</td>\n",
       "      <td>0.000000</td>\n",
       "      <td>0.000000</td>\n",
       "    </tr>\n",
       "  </tbody>\n",
       "</table>\n",
       "</div>"
      ],
      "text/plain": [
       "      attributes           min           max         range         media  \\\n",
       "0     product_id  4.271590e+08  1.013317e+09  5.861580e+08  7.404700e+08   \n",
       "1       Art. No.  4.271590e+08  1.013317e+09  5.861580e+08  7.404700e+08   \n",
       "2       color_id  1.000000e+00  5.600000e+01  5.500000e+01  1.347368e+01   \n",
       "3  product_price  5.990000e+00  4.999000e+01  4.400000e+01  2.647421e+01   \n",
       "4       style_id  4.271590e+05  1.013317e+06  5.861580e+05  7.404700e+05   \n",
       "5         cotton  6.600000e-01  1.000000e+00  3.400000e-01  9.454737e-01   \n",
       "6      polyester  6.000000e-02  2.800000e-01  2.200000e-01  1.257692e-01   \n",
       "7        spandex  1.000000e-02  7.000000e-02  6.000000e-02  1.655556e-02   \n",
       "8     elasterell  8.000000e-02  8.000000e-02  0.000000e+00  8.000000e-02   \n",
       "\n",
       "        mediana           std      skew   kurtosis  \n",
       "0  7.519940e+08  1.809852e+08 -0.209794  -0.646577  \n",
       "1  7.519940e+08  1.809852e+08 -0.209794  -0.646577  \n",
       "2  8.000000e+00  1.316042e+01  1.236637   0.749734  \n",
       "3  2.299000e+01  1.086459e+01  0.312208  -1.030168  \n",
       "4  7.519940e+05  1.809852e+05 -0.209794  -0.646577  \n",
       "5  9.800000e-01  7.097469e-02 -2.015522   3.706911  \n",
       "6           NaN  6.956862e-02  0.714751  -1.012771  \n",
       "7           NaN  8.321473e-03  3.551035  20.154854  \n",
       "8           NaN  0.000000e+00  0.000000   0.000000  "
      ]
     },
     "execution_count": 30,
     "metadata": {},
     "output_type": "execute_result"
    }
   ],
   "source": [
    "#tendencia central - media, meadiana \n",
    "t1 = pd.DataFrame( num_attributes.apply( np.mean )).T\n",
    "t2 = pd.DataFrame( num_attributes.apply( np.median )).T\n",
    "\n",
    "\n",
    "#disperson - std, min, max, range, skew, kurtosis\n",
    "d1 = pd.DataFrame( num_attributes.apply (np.std) ).T\n",
    "d2 = pd.DataFrame( num_attributes.apply (np.min) ).T\n",
    "d3 = pd.DataFrame( num_attributes.apply (np.max) ).T\n",
    "d4 = pd.DataFrame( num_attributes.apply (lambda x: x.max() - x.min() ) ).T\n",
    "d5 = pd.DataFrame( num_attributes.apply (lambda x: x.skew() ) ).T\n",
    "d6 = pd.DataFrame( num_attributes.apply (lambda x: x.kurtosis() ) ).T\n",
    "\n",
    "\n",
    "#concat \n",
    "m1 = pd.concat( [d2, d3, d4, t1, t2, d1 ,d5, d6 ]).T.reset_index()\n",
    "m1.columns = [\"attributes\",\"min\",\"max\",\"range\",\"media\",\"mediana\",\"std\",\"skew\",\"kurtosis\"]\n",
    "m1"
   ]
  },
  {
   "cell_type": "markdown",
   "id": "799fbb38",
   "metadata": {},
   "source": [
    "#### 3.5.1.0 Mínimo "
   ]
  },
  {
   "cell_type": "markdown",
   "id": "6e68333c",
   "metadata": {},
   "source": [
    "* Menor valor do conjunto de dados "
   ]
  },
  {
   "cell_type": "markdown",
   "id": "99057269",
   "metadata": {},
   "source": [
    "#### 3.5.1.1 Máximo "
   ]
  },
  {
   "cell_type": "markdown",
   "id": "df8a180e",
   "metadata": {},
   "source": [
    "* Máximo valor do conjunto de dados "
   ]
  },
  {
   "cell_type": "markdown",
   "id": "013cd68d",
   "metadata": {},
   "source": [
    "#### 3.5.1.2 Range "
   ]
  },
  {
   "cell_type": "markdown",
   "id": "4c9bab3a",
   "metadata": {},
   "source": [
    "* Estimativa de variabilidade ou disperção \n",
    "Diferença de max e min"
   ]
  },
  {
   "cell_type": "markdown",
   "id": "5927ede8",
   "metadata": {},
   "source": [
    "#### 3.5.1.3 Média "
   ]
  },
  {
   "cell_type": "markdown",
   "id": "4918ca4a",
   "metadata": {},
   "source": [
    "* Definição: A média é a soma de todos os valores do conjunto de dados, divido pelo número de valores: \n",
    "* Exemplo: (3, 5, 1, 2) \n",
    "     - Média: ( 3+5+1+2 ) = 11 \n",
    "     - Média: ( 3+5+1+2 + 1500) = 1511 /5 =302.2\n"
   ]
  },
  {
   "cell_type": "markdown",
   "id": "f595b8de",
   "metadata": {},
   "source": [
    "#### 3.5.1.4 Mediana "
   ]
  },
  {
   "cell_type": "markdown",
   "id": "308e8b44",
   "metadata": {},
   "source": [
    "Definição: A mediana é o número do meio de uma lista ordenada \n",
    "- Exemplo (3, 5, 1, 2) \n",
    " - - Ordenação dos dados: 1,2,3,5 \n",
    " - - Número do meio (2+3) / 2.5"
   ]
  },
  {
   "cell_type": "markdown",
   "id": "27241e5e",
   "metadata": {},
   "source": [
    "#### 3.5.1.5 Desvio Padrão "
   ]
  },
  {
   "cell_type": "markdown",
   "id": "21d6ba87",
   "metadata": {},
   "source": [
    "- Estimativa de variabilidade ou dispersão \n",
    "    - Ele mede os valores do conjunto de dados que estão próximos ou espalhado em torno de um ponto central. \n",
    "    \n",
    "    - Exemplo: \n",
    "    \n",
    "    (1,5,7,10,15)\n",
    "    \n",
    "    MÉDIA: 7.6\n",
    "    \n",
    "    MEDIANA: 7 \n",
    "    \n",
    "    DESVIO: Diferença entre os valores observados e a estimativa da localização ( média ou mediana ). Mostra os valores disperso os dados estão em torno da médio. \n",
    "  - Desvio: \n",
    "  \n",
    "- 1 - 7.6 = -6.6\n",
    "- 5 - 7.6 = -2.6\n",
    "- 7 - 7.6 = -0.6\n",
    "- 10 - 7.6 = 2.4\n",
    "- 15 - 7.6 = 7.4\n",
    "\n",
    "\n",
    "  - Variância: A soma dos desvios da média ao quadrado dividido por n menos 1 (onde n é os valores do meu conjunto de dados ( amostra ). Resume os desvios em um único número. \n",
    "- 1 - 7.6 = -6.6 **2 = 43,56\n",
    "- 5 - 7.6 = -2.6 **2 = 6,76\n",
    "- 7 - 7.6 = -0.6 **2 = 0,36\n",
    "- 10 - 7.6 = 2.4 **2 = 5,76\n",
    "- 15 - 7.6 = 7.4 **2 = 54,76\n",
    "\n",
    "\n",
    "(Soma dos valores: 43,56 + 6,76 + 0,36 + 5,76 + 54,76) = 111.20/(5-1) = 27.8\n",
    "\n",
    "  - Desvio padrão: a raíz quadrada da variância. Está na mesma escala dos dados orginais.  \n",
    "  \n",
    "- 1 - 7.6 = -6.6 **2 = 43,56\n",
    "- 5 - 7.6 = -2.6 **2 = 6,76\n",
    "- 7 - 7.6 = -0.6 **2 = 0,36\n",
    "- 10 - 7.6 = 2.4 **2 = 5,76\n",
    "- 15 - 7.6 = 7.4 **2 = 54,76\n",
    "\n",
    "\n",
    "(Soma dos valores: 43,56 + 6,76 + 0,36 + 5,76 + 54,76) = 111.20/(5-1) = sqrt(27.8) = 5.27\n",
    "\n",
    "  \n",
    " \n"
   ]
  },
  {
   "cell_type": "code",
   "execution_count": 31,
   "id": "dad0eac7",
   "metadata": {},
   "outputs": [
    {
     "data": {
      "text/plain": [
       "5.272570530585627"
      ]
     },
     "execution_count": 31,
     "metadata": {},
     "output_type": "execute_result"
    }
   ],
   "source": [
    "np.std([1 ,5, 7, 10, 15], ddof = 1)"
   ]
  },
  {
   "cell_type": "markdown",
   "id": "d9bc177d",
   "metadata": {},
   "source": [
    "#### 3.5.1.6 Skewness "
   ]
  },
  {
   "cell_type": "markdown",
   "id": "b30690e6",
   "metadata": {},
   "source": [
    "- É a medida do quanto uma distribuição de dados desvia de uma distribuição normal. \n",
    "- Sendo que a distribuição normal não possui skewness, ou seja, os dados estão distribuídos perfeitamente ao redor da média\n",
    "\n",
    "\n",
    "\n",
    "Skewness Positiva e Negativa\n",
    "\n",
    "\n",
    "* Mediana > Média = Deslocamento para a direita -> Skewness Negativa  |  Concentração dos dados mais altos (maiores valores)\n",
    "* Mediana = Média = Não tenho deslocamento. Não tenho skewness \n",
    "* Mediana < Média = Deslocamento para a esquerda -> Skewness Positiva |  Concentração dos dados mais baixos (menores valores)\n",
    "\n",
    "\n",
    "Como interpretar a Skewness nos dados: \n",
    "\n",
    "- A skewness mostra a concentração dos dados de um lado da média. \n",
    "\n",
    "\n",
    "Algoritmos de ML precisam treinar com dados não enviesados, ou seja, a distribuição da variável resposta (alvo) precisa ser o mais próximo da variável normal. \n",
    "\n"
   ]
  },
  {
   "cell_type": "code",
   "execution_count": 35,
   "id": "952a2760",
   "metadata": {
    "scrolled": false
   },
   "outputs": [
    {
     "data": {
      "image/png": "[encoded data removed]",
      "text/plain": [
       "<IPython.core.display.Image object>"
      ]
     },
     "execution_count": 35,
     "metadata": {},
     "output_type": "execute_result"
    }
   ],
   "source": [
    "img_path = \"\"\n",
    "Image(img_path + \"datas\\skewness.png\")"
   ]
  },
  {
   "cell_type": "markdown",
   "id": "3fb3bad0",
   "metadata": {},
   "source": []
  },
  {
   "cell_type": "markdown",
   "id": "034132d3",
   "metadata": {},
   "source": [
    "#### 3.5.1.7 Kurtosis"
   ]
  },
  {
   "cell_type": "markdown",
   "id": "b728d3b1",
   "metadata": {},
   "source": [
    "- Kurtosis descreve a distribuição dos dados em torno da média. \n",
    "- Evidencia uma distribuição de caudas longas ( probabilidade baixa de acontecer valores extremos ) \n",
    "\n",
    "\n",
    "Cauda longa pouca chance de se ter valores extremos-> sistema conservador.   \n",
    "\n",
    "kurtosis alta -> apenas valores em torno da média. Pode enviezar o modelo de machine learning. Talvez precise capturar mais dados. \n"
   ]
  },
  {
   "cell_type": "code",
   "execution_count": 36,
   "id": "ac659fc6",
   "metadata": {},
   "outputs": [
    {
     "data": {
      "image/jpeg": "[encoded data removed]",
      "text/plain": [
       "<IPython.core.display.Image object>"
      ]
     },
     "execution_count": 36,
     "metadata": {},
     "output_type": "execute_result"
    }
   ],
   "source": [
    "img_path = \"\"\n",
    "Image(img_path + \"datas\\kurtosis.jpg\")"
   ]
  },
  {
   "cell_type": "markdown",
   "id": "756c1a07",
   "metadata": {},
   "source": [
    "#### 3.5.1.8 Momento da Estatística "
   ]
  },
  {
   "cell_type": "markdown",
   "id": "d9c79ac9",
   "metadata": {},
   "source": [
    " - Momento 1: Estimativa de Localização   ( Média ou Mediana ) \n",
    " - Momento 2: Estimativa de Variabilidade ( Desvios, Variância, Desvio Padão, Intervalo ) \n",
    " - Momento 3: Skewness                    ( Assimetria da distribuição dos dados em relação a média ) \n",
    " - Momento 4: Kurtosis                    ( Evidência de caudas longas [probabilidade de acontecer os valores extremos] ) "
   ]
  },
  {
   "cell_type": "code",
   "execution_count": null,
   "id": "7a46b1a6",
   "metadata": {},
   "outputs": [],
   "source": []
  }
 ],
 "metadata": {
  "celltoolbar": "Raw Cell Format",
  "kernelspec": {
   "display_name": "Python 3 (ipykernel)",
   "language": "python",
   "name": "python3"
  },
  "language_info": {
   "codemirror_mode": {
    "name": "ipython",
    "version": 3
   },
   "file_extension": ".py",
   "mimetype": "text/x-python",
   "name": "python",
   "nbconvert_exporter": "python",
   "pygments_lexer": "ipython3",
   "version": "3.9.7"
  }
 },
 "nbformat": 4,
 "nbformat_minor": 5
}
